{
 "cells": [
  {
   "cell_type": "markdown",
   "id": "3115da11-b6e5-4ad4-8b18-8bd3451667cf",
   "metadata": {},
   "source": [
    "## Ejercicio 1"
   ]
  },
  {
   "cell_type": "code",
   "execution_count": 1,
   "id": "627e561d-dbd8-48b0-af02-e59766c888e8",
   "metadata": {},
   "outputs": [
    {
     "name": "stdout",
     "output_type": "stream",
     "text": [
      "Solución para el sistema a: [ 0. -0.]\n",
      "Solución para el sistema b: Singular matrix\n",
      "Solución para el sistema c: [ 0.83333333 -1.27272727]\n",
      "Solución para el sistema d: [ 0.38961039 -0.31168831  0.53246753]\n"
     ]
    }
   ],
   "source": [
    "import numpy as np\n",
    "\n",
    "def solve_linear_system(coeff_matrix, const_vector):\n",
    "    try:\n",
    "        solution = np.linalg.solve(coeff_matrix, const_vector)\n",
    "        return solution\n",
    "    except np.linalg.LinAlgError as e:\n",
    "        return str(e)\n",
    "\n",
    "A_a = np.array([[1, 2], [1, -1]])\n",
    "b_a = np.array([0, 0])\n",
    "solution_a = solve_linear_system(A_a, b_a)\n",
    "print(\"Solución para el sistema a:\", solution_a)\n",
    "\n",
    "A_b = np.array([[1, 2], [-2, -4]])\n",
    "b_b = np.array([3, 6])\n",
    "solution_b = solve_linear_system(A_b, b_b)\n",
    "print(\"Solución para el sistema b:\", solution_b)\n",
    "\n",
    "A_c = np.array([[2, 1], [1, 1], [1, -3]])\n",
    "b_c = np.array([-1, 2, 5])\n",
    "solution_c, residuals, rank, s = np.linalg.lstsq(A_c, b_c, rcond=None)\n",
    "print(\"Solución para el sistema c:\", solution_c)\n",
    "\n",
    "A_d = np.array([[2, 1, 1], [2, 4, -1]])\n",
    "b_d = np.array([1, -1])\n",
    "solution_d, residuals, rank, s = np.linalg.lstsq(A_d, b_d, rcond=None)\n",
    "print(\"Solución para el sistema d:\", solution_d)"
   ]
  },
  {
   "cell_type": "markdown",
   "id": "efe0644d-8f9b-4335-be79-ec45b5c189c9",
   "metadata": {},
   "source": [
    "## Ejercicio 2"
   ]
  },
  {
   "cell_type": "code",
   "execution_count": 2,
   "id": "465c64d2-5267-407c-bbe2-0d87ee2a6059",
   "metadata": {},
   "outputs": [
    {
     "name": "stdout",
     "output_type": "stream",
     "text": [
      "Solución del sistema a:\n",
      "[-1.05  0.98  3.03]\n",
      "Solución del sistema b:\n",
      "[-0.98  0.98  3.03]\n"
     ]
    }
   ],
   "source": [
    "import numpy as np\n",
    "\n",
    "def round_to_two_digits(number):\n",
    "    return round(number, 2)\n",
    "\n",
    "def gaussian_elimination_with_rounding(A, b):\n",
    "    n = len(A)\n",
    "    A = A.astype(float)\n",
    "    b = b.astype(float)\n",
    "\n",
    "    for i in range(n):\n",
    "        pivot = A[i][i]\n",
    "        for k in range(i, n):\n",
    "            A[i][k] = round_to_two_digits(A[i][k] / pivot)\n",
    "        b[i] = round_to_two_digits(b[i] / pivot)\n",
    "        for j in range(i+1, n):\n",
    "            factor = A[j][i]\n",
    "            for k in range(i, n):\n",
    "                A[j][k] = round_to_two_digits(A[j][k] - round_to_two_digits(factor * A[i][k]))\n",
    "            b[j] = round_to_two_digits(b[j] - round_to_two_digits(factor * b[i]))\n",
    "    x = np.zeros(n)\n",
    "    for i in range(n-1, -1, -1):\n",
    "        x[i] = b[i]\n",
    "        for j in range(i+1, n):\n",
    "            x[i] = round_to_two_digits(x[i] - round_to_two_digits(A[i][j] * x[j]))\n",
    "        x[i] = round_to_two_digits(x[i] / A[i][i])\n",
    "\n",
    "    return x\n",
    "\n",
    "A_a = np.array([\n",
    "    [-1, 4, 1],\n",
    "    [5/3, 2/3, 2/3],\n",
    "    [2, 1, 4]\n",
    "])\n",
    "b_a = np.array([8, 1, 11])\n",
    "\n",
    "A_b = np.array([\n",
    "    [4, 2, -1],\n",
    "    [1/9, 1/9, -1/3],\n",
    "    [1, 4, 2]\n",
    "])\n",
    "b_b = np.array([-5, -1, 9])\n",
    "\n",
    "solution_a = gaussian_elimination_with_rounding(A_a, b_a)\n",
    "solution_b = gaussian_elimination_with_rounding(A_b, b_b)\n",
    "print(\"Solución del sistema a:\")\n",
    "print(solution_a)\n",
    "print(\"Solución del sistema b:\")\n",
    "print(solution_b)\n"
   ]
  },
  {
   "cell_type": "markdown",
   "id": "91d5b1ec-1213-41af-b3a0-57a8ffc1915f",
   "metadata": {},
   "source": [
    "## Ejercicio 3"
   ]
  },
  {
   "cell_type": "code",
   "execution_count": 4,
   "id": "2c29583d-cd52-4ea5-9c98-a8490cb1042b",
   "metadata": {},
   "outputs": [
    {
     "name": "stdout",
     "output_type": "stream",
     "text": [
      "Solución del sistema 1: [1.1875 1.8125 0.875 ]\n",
      "Solución del sistema 2: [-1. -0.  1.]\n",
      "Solución del sistema 3: [ 1.5  2.  -1.2  3. ]\n",
      "El sistema 4 no tiene solución única: El sistema no tiene solución única\n"
     ]
    }
   ],
   "source": [
    "import numpy as np\n",
    "\n",
    "def gauss_elimination(A, b):\n",
    "    n = len(b)\n",
    "    M = np.hstack((A, b.reshape(-1, 1))).astype(np.float64)\n",
    "    \n",
    "    for i in range(n):\n",
    "        max_row = np.argmax(np.abs(M[i:n, i])) + i\n",
    "        if M[max_row, i] == 0:\n",
    "            raise ValueError(\"El sistema no tiene solución única\")\n",
    "        if max_row != i:\n",
    "            M[[i, max_row]] = M[[max_row, i]]        \n",
    "        for j in range(i+1, n):\n",
    "            factor = M[j, i] / M[i, i]\n",
    "            M[j, i:] -= factor * M[i, i:]\n",
    "    x = np.zeros(n)\n",
    "    for i in range(n-1, -1, -1):\n",
    "        x[i] = (M[i, -1] - np.dot(M[i, i+1:n], x[i+1:n])) / M[i, i]\n",
    "    \n",
    "    return x\n",
    "\n",
    "systems = [\n",
    "    (np.array([[1, -1, 3], [3, -3, 1], [1, 1, 0]], dtype=float), np.array([2, -1, 3], dtype=float)),\n",
    "    (np.array([[2, -1.5, 3], [-1, 0, 2], [4, -4.5, 5]], dtype=float), np.array([1, 3, 1], dtype=float)),\n",
    "    (np.array([[2, 0, 0, 0], [1, 1.5, 0, 0], [0, -3, 0.5, 0], [2, -2, 1, 1]], dtype=float), np.array([3, 4.5, -6.6, 0.8], dtype=float)),\n",
    "    (np.array([[1, 1, 0, 1], [2, 1, -1, 1], [4, -1, -2, 2], [3, -1, -1, 2]], dtype=float), np.array([2, 1, 0, -3], dtype=float))\n",
    "]\n",
    "\n",
    "for i, (A, b) in enumerate(systems):\n",
    "    try:\n",
    "        solution = gauss_elimination(A, b)\n",
    "        print(f\"Solución del sistema {i+1}: {solution}\")\n",
    "    except ValueError as e:\n",
    "        print(f\"El sistema {i+1} no tiene solución única: {e}\")"
   ]
  },
  {
   "cell_type": "markdown",
   "id": "5d996779-0e2b-4344-a27d-1bfc7486db50",
   "metadata": {},
   "source": [
    "## Ejercicio 4"
   ]
  },
  {
   "cell_type": "code",
   "execution_count": 5,
   "id": "af71b271-06b7-4a51-9d00-094eb3c7b014",
   "metadata": {},
   "outputs": [
    {
     "name": "stdout",
     "output_type": "stream",
     "text": [
      "Solución del sistema 1: [-227.07697  476.92322 -177.69237]\n",
      "Solución del sistema 2: [0.99970937 1.0000001  1.0001061 ]\n",
      "Solución del sistema 3: [-0.03174745  0.59525675 -2.3809996   2.7778091 ]\n",
      "Solución del sistema 4: [1.8830409  2.8070176  0.730994   1.4385961  0.09356716]\n"
     ]
    }
   ],
   "source": [
    "import numpy as np\n",
    "\n",
    "def gauss_elimination(A, b):\n",
    "    n = len(b)\n",
    "    M = np.hstack((A, b.reshape(-1, 1))).astype(np.float32)\n",
    "    for i in range(n):\n",
    "        max_row = np.argmax(np.abs(M[i:n, i])) + i\n",
    "        if M[max_row, i] == 0:\n",
    "            raise ValueError(\"El sistema no tiene solución única\")\n",
    "        if max_row != i:\n",
    "            M[[i, max_row]] = M[[max_row, i]]        \n",
    "        for j in range(i+1, n):\n",
    "            factor = M[j, i] / M[i, i]\n",
    "            M[j, i:] -= factor * M[i, i:]    \n",
    "    x = np.zeros(n, dtype=np.float32)\n",
    "    for i in range(n-1, -1, -1):\n",
    "        x[i] = (M[i, -1] - np.dot(M[i, i+1:n], x[i+1:n])) / M[i, i]\n",
    "    return x\n",
    "\n",
    "systems = [\n",
    "    (np.array([[1/4, 1/5, 1/6], [1/3, 1/4, 1/5], [1/2, 1, 2]], dtype=np.float32), np.array([9, 8, 8], dtype=np.float32)),\n",
    "    (np.array([[3.333, 15920, -10.333], [2.222, 16.71, 9.612], [1.5611, 5.1791, 1.6852]], dtype=np.float32), np.array([15913, 28.544, 8.4254], dtype=np.float32)),\n",
    "    (np.array([[1, 1/2, 1/3, 1/4], [1/2, 1/3, 1/4, 1/5], [1/3, 1/4, 1/5, 1/6], [1/4, 1/5, 1/6, 1/7]], dtype=np.float32), np.array([1/6, 1/7, 1/8, 1/9], dtype=np.float32)),\n",
    "    (np.array([[2, 1, -1, 1, -3], [1, 0, 2, -1, 1], [0, -2, -1, 1, -1], [3, 1, -4, 0, 5], [1, -1, -1, -1, 1]], dtype=np.float32), np.array([7, 2, -5, 6, -3], dtype=np.float32))\n",
    "]\n",
    "\n",
    "for i, (A, b) in enumerate(systems):\n",
    "    try:\n",
    "        solution = gauss_elimination(A, b)\n",
    "        print(f\"Solución del sistema {i+1}: {solution}\")\n",
    "    except ValueError as e:\n",
    "        print(f\"El sistema {i+1} no tiene solución única: {e}\")\n"
   ]
  },
  {
   "cell_type": "markdown",
   "id": "51eeb8a6-ebc4-4e58-a64f-5315696056f2",
   "metadata": {},
   "source": [
    "## Ejercicio 5"
   ]
  },
  {
   "cell_type": "code",
   "execution_count": 6,
   "id": "b7ac6744-9a83-44e4-a4a4-dd7a1ee33ce8",
   "metadata": {},
   "outputs": [
    {
     "name": "stdout",
     "output_type": "stream",
     "text": [
      "Valores de alpha donde el determinante es cero (posibles soluciones infinitas o no solución):\n",
      "[]\n",
      "Solución para alpha = 0.5: [-2.  1.  2.]\n",
      "No se encontraron valores específicos de alpha donde el sistema sea inconsistente dentro del rango analizado.\n"
     ]
    }
   ],
   "source": [
    "import numpy as np\n",
    "\n",
    "def gaussian_elimination(A, b):\n",
    "    n = len(b)\n",
    "    M = A\n",
    "    M = np.hstack((M, b.reshape(-1,1)))\n",
    "\n",
    "    for i in range(n):\n",
    "        max_row = np.argmax(np.abs(M[i:,i])) + i\n",
    "        M[[i, max_row]] = M[[max_row, i]]\n",
    "        M[i] = M[i] / M[i, i]\n",
    "        for j in range(i+1, n):\n",
    "            M[j] = M[j] - M[j, i] * M[i]\n",
    "    x = np.zeros(n)\n",
    "    for i in range(n-1, -1, -1):\n",
    "        x[i] = M[i, -1] - np.sum(M[i, i+1:n] * x[i+1:n])\n",
    "    return x\n",
    "\n",
    "def solve_system(alpha):\n",
    "    A = np.array([\n",
    "        [1, -1, alpha],\n",
    "        [-1, 2, -alpha],\n",
    "        [alpha, 1, 1]\n",
    "    ], dtype=np.float64)\n",
    "    b = np.array([-2, 3, 2], dtype=np.float64)\n",
    "    return gaussian_elimination(A, b)\n",
    "\n",
    "def calculate_determinant(alpha):\n",
    "    A = np.array([\n",
    "        [1, -1, alpha],\n",
    "        [-1, 2, -alpha],\n",
    "        [alpha, 1, 1]\n",
    "    ], dtype=np.float64)\n",
    "    return np.linalg.det(A)\n",
    "\n",
    "alphas = np.linspace(-10, 10, 1000)\n",
    "determinants = np.array([calculate_determinant(alpha) for alpha in alphas])\n",
    "alpha_no_solution_or_infinite = alphas[np.isclose(determinants, 0, atol=1e-10)]\n",
    "\n",
    "print(\"Valores de alpha donde el determinante es cero (posibles soluciones infinitas o no solución):\")\n",
    "print(alpha_no_solution_or_infinite)\n",
    "\n",
    "alpha_unique = 0.5 \n",
    "if not np.isclose(calculate_determinant(alpha_unique), 0, atol=1e-10):\n",
    "    solution = solve_system(alpha_unique)\n",
    "    print(f\"Solución para alpha = {alpha_unique}: {solution}\")\n",
    "else:\n",
    "    print(f\"alpha = {alpha_unique} no tiene una única solución ya que el determinante es cero.\")\n",
    "\n",
    "inconsistent_found = False\n",
    "for alpha in alpha_no_solution_or_infinite:\n",
    "    try:\n",
    "        _ = solve_system(alpha)\n",
    "    except np.linalg.LinAlgError:\n",
    "        print(f\"El sistema es inconsistente para alpha = {alpha}\")\n",
    "        inconsistent_found = True\n",
    "        break\n",
    "\n",
    "if not inconsistent_found:\n",
    "    print(\"No se encontraron valores específicos de alpha donde el sistema sea inconsistente dentro del rango analizado.\")\n",
    "\n"
   ]
  },
  {
   "cell_type": "markdown",
   "id": "c35e47ae-41b3-45b1-8812-43a4e9e8bebf",
   "metadata": {},
   "source": [
    "## Ejercicio 6"
   ]
  },
  {
   "cell_type": "code",
   "execution_count": 9,
   "id": "8072498e-f08d-442a-b2a8-6fe832ff242f",
   "metadata": {},
   "outputs": [
    {
     "name": "stdout",
     "output_type": "stream",
     "text": [
      "¿Hay suficiente alimento? False\n",
      "Número máximo de animales adicionales que se pueden agregar: [-100.           41.17647059   44.11764706  105.88235294]\n",
      "Incremento máximo de especies restantes si la especie 1 se extingue: [378.82352941 345.88235294 914.11764706]\n",
      "Incremento máximo de especies restantes si la especie 2 se extingue: [900.          33.33333333 866.66666667]\n"
     ]
    }
   ],
   "source": [
    "import numpy as np\n",
    "\n",
    "A = np.array([\n",
    "    [1, 2, 0, 3],\n",
    "    [1, 0, 2, 2],\n",
    "    [0, 0, 1, 1]\n",
    "])\n",
    "\n",
    "x = np.array([1000, 500, 350, 400])\n",
    "b = np.array([3500, 2700, 900])\n",
    "\n",
    "def is_sufficient_food(A, x, b):\n",
    "    return np.allclose(np.dot(A, x), b)\n",
    "\n",
    "def max_additional_animals(A, b):\n",
    "    return np.linalg.lstsq(A, b, rcond=None)[0]\n",
    "\n",
    "def max_increment_species_1_extinct(A, b):\n",
    "    A_reduced = A[:, 1:] \n",
    "    return np.linalg.lstsq(A_reduced, b, rcond=None)[0]\n",
    "\n",
    "def max_increment_species_2_extinct(A, b):\n",
    "    A_reduced = np.delete(A, 1, axis=1) \n",
    "    return np.linalg.lstsq(A_reduced, b, rcond=None)[0]\n",
    "\n",
    "sufficient_food = is_sufficient_food(A, x, b)\n",
    "print(f\"¿Hay suficiente alimento? {sufficient_food}\")\n",
    "\n",
    "max_animals = max_additional_animals(A, b - np.dot(A, x))\n",
    "print(f\"Número máximo de animales adicionales que se pueden agregar: {max_animals}\")\n",
    "\n",
    "max_increment_1_extinct = max_increment_species_1_extinct(A, b)\n",
    "print(f\"Incremento máximo de especies restantes si la especie 1 se extingue: {max_increment_1_extinct}\")\n",
    "\n",
    "max_increment_2_extinct = max_increment_species_2_extinct(A, b)\n",
    "print(f\"Incremento máximo de especies restantes si la especie 2 se extingue: {max_increment_2_extinct}\")\n"
   ]
  },
  {
   "cell_type": "markdown",
   "id": "97783829-6feb-4dd5-b76b-7a7d13a02f96",
   "metadata": {},
   "source": [
    "## Ejercicio 7"
   ]
  },
  {
   "cell_type": "code",
   "execution_count": 10,
   "id": "98af3a8b-0873-4480-ac18-43daad46bb6e",
   "metadata": {},
   "outputs": [
    {
     "name": "stdout",
     "output_type": "stream",
     "text": [
      "Solución del sistema 1: [-227.07668  476.9226  -177.69215]\n",
      "Solución del sistema 2: [0.9998865 1.0000001 1.0001063]\n",
      "Solución del sistema 3: [-0.03174722  0.5952536  -2.380991    2.7778032 ]\n",
      "Solución del sistema 4: [1.8830409  2.8070173  0.73099416 1.4385965  0.09356724]\n"
     ]
    }
   ],
   "source": [
    "import numpy as np\n",
    "\n",
    "def gauss_jordan(A, b):\n",
    "    A = np.array(A, dtype=np.float32)\n",
    "    b = np.array(b, dtype=np.float32)\n",
    "    \n",
    "    n = len(b)\n",
    "    Ab = np.hstack([A, b.reshape(-1, 1)])\n",
    "\n",
    "    for i in range(n):\n",
    "        Ab[i] = Ab[i] / Ab[i, i]\n",
    "        for j in range(n):\n",
    "            if i != j:\n",
    "                Ab[j] = Ab[j] - Ab[j, i] * Ab[i]\n",
    "    x = Ab[:, -1]\n",
    "    return x\n",
    "\n",
    "systems = [\n",
    "    (\n",
    "        [[1/4, 1/5, 1/6], [1/3, 1/4, 1/5], [1/2, 1, 2]],\n",
    "        [9, 8, 8]\n",
    "    ),\n",
    "    (\n",
    "        [[3.333, 15920, -10.333], [2.222, 16.71, 9.612], [1.5611, 5.1791, 1.6852]],\n",
    "        [15913, 28.544, 8.4254]\n",
    "    ),\n",
    "    (\n",
    "        [[1, 1/2, 1/3, 1/4], [1/2, 1/3, 1/4, 1/5], [1/3, 1/4, 1/5, 1/6], [1/4, 1/5, 1/6, 1/7]],\n",
    "        [1/6, 1/7, 1/8, 1/9]\n",
    "    ),\n",
    "    (\n",
    "        [[2, 1, -1, 1, -3], [1, 0, 2, -1, 1], [0, -2, -1, 1, -1], [3, 1, -4, 0, 5], [1, -1, -1, -1, 1]],\n",
    "        [7, 2, -5, 6, -3]\n",
    "    )\n",
    "]\n",
    "\n",
    "for i, (A, b) in enumerate(systems):\n",
    "    try:\n",
    "        solution = gauss_jordan(A, b)\n",
    "        print(f\"Solución del sistema {i+1}: {solution}\")\n",
    "    except Exception as e:\n",
    "        print(f\"Error al resolver el sistema {i+1}: {e}\")\n"
   ]
  },
  {
   "cell_type": "code",
   "execution_count": null,
   "id": "acbd5335-fa31-4afa-8673-0768d4cf4e60",
   "metadata": {},
   "outputs": [],
   "source": []
  }
 ],
 "metadata": {
  "kernelspec": {
   "display_name": "Python 3 (ipykernel)",
   "language": "python",
   "name": "python3"
  },
  "language_info": {
   "codemirror_mode": {
    "name": "ipython",
    "version": 3
   },
   "file_extension": ".py",
   "mimetype": "text/x-python",
   "name": "python",
   "nbconvert_exporter": "python",
   "pygments_lexer": "ipython3",
   "version": "3.12.4"
  }
 },
 "nbformat": 4,
 "nbformat_minor": 5
}
